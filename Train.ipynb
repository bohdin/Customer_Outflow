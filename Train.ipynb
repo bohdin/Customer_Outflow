{
 "cells": [
  {
   "cell_type": "markdown",
   "metadata": {},
   "source": [
    "## Import Libraries"
   ]
  },
  {
   "cell_type": "code",
   "execution_count": 16,
   "metadata": {},
   "outputs": [],
   "source": [
    "import pandas as pd\n",
    "from sklearn.model_selection import train_test_split\n",
    "from sklearn.preprocessing import StandardScaler\n",
    "from sklearn.linear_model import LogisticRegression\n",
    "from sklearn.ensemble import RandomForestClassifier\n",
    "from sklearn.svm import SVC\n",
    "from sklearn.model_selection import GridSearchCV\n",
    "from sklearn.metrics import classification_report\n",
    "import joblib"
   ]
  },
  {
   "cell_type": "code",
   "execution_count": 17,
   "metadata": {},
   "outputs": [],
   "source": [
    "SEED = 42"
   ]
  },
  {
   "cell_type": "markdown",
   "metadata": {},
   "source": [
    "## Split data"
   ]
  },
  {
   "cell_type": "code",
   "execution_count": 18,
   "metadata": {},
   "outputs": [],
   "source": [
    "df = pd.read_csv('Data/ready_churm.csv')"
   ]
  },
  {
   "cell_type": "code",
   "execution_count": 19,
   "metadata": {},
   "outputs": [],
   "source": [
    "x_train, x_test, y_train, y_test = train_test_split(df.drop(columns=['churn']), df['churn'], test_size=0.2, random_state=SEED)"
   ]
  },
  {
   "cell_type": "code",
   "execution_count": 20,
   "metadata": {},
   "outputs": [],
   "source": [
    "scaler = StandardScaler()\n",
    "columns_scale = ['subscription_age', 'bill_avg', 'service_failure_count', 'download_avg', 'upload_avg']\n",
    "x_train[columns_scale] = scaler.fit_transform(x_train[columns_scale])\n",
    "x_test[columns_scale] = scaler.transform(x_test[columns_scale])"
   ]
  },
  {
   "cell_type": "markdown",
   "metadata": {},
   "source": [
    "## train"
   ]
  },
  {
   "cell_type": "code",
   "execution_count": null,
   "metadata": {},
   "outputs": [],
   "source": []
  },
  {
   "cell_type": "code",
   "execution_count": 21,
   "metadata": {},
   "outputs": [],
   "source": [
    "model_dict = {\n",
    "    'LogisticRegression': LogisticRegression(random_state=SEED),\n",
    "    'RandomForest': RandomForestClassifier(random_state=SEED),\n",
    "    'SVM': SVC(random_state=SEED)\n",
    "}\n",
    "param_grid = {\n",
    "    'LogisticRegression': {'C': [0.01, 0.1, 1, 10]},\n",
    "    'RandomForest': {'n_estimators': [50, 100, 200]},\n",
    "    'SVM': {'C': [0.1, 1, 10], 'kernel': ['linear', 'rbf']}\n",
    "}"
   ]
  },
  {
   "cell_type": "code",
   "execution_count": 22,
   "metadata": {},
   "outputs": [
    {
     "name": "stdout",
     "output_type": "stream",
     "text": [
      "Train model: LogisticRegression\n",
      "Best parametr: {'C': 0.1}\n",
      "              precision    recall  f1-score   support\n",
      "\n",
      "           0       0.73      0.68      0.70      6553\n",
      "           1       0.75      0.79      0.77      7902\n",
      "\n",
      "    accuracy                           0.74     14455\n",
      "   macro avg       0.74      0.74      0.74     14455\n",
      "weighted avg       0.74      0.74      0.74     14455\n",
      "\n",
      "Train model: RandomForest\n",
      "Best parametr: {'n_estimators': 200}\n",
      "              precision    recall  f1-score   support\n",
      "\n",
      "           0       0.78      0.83      0.80      6553\n",
      "           1       0.85      0.80      0.83      7902\n",
      "\n",
      "    accuracy                           0.81     14455\n",
      "   macro avg       0.81      0.82      0.81     14455\n",
      "weighted avg       0.82      0.81      0.81     14455\n",
      "\n",
      "Train model: SVM\n",
      "Best parametr: {'C': 10, 'kernel': 'rbf'}\n",
      "              precision    recall  f1-score   support\n",
      "\n",
      "           0       0.73      0.84      0.78      6553\n",
      "           1       0.85      0.74      0.79      7902\n",
      "\n",
      "    accuracy                           0.78     14455\n",
      "   macro avg       0.79      0.79      0.78     14455\n",
      "weighted avg       0.79      0.78      0.78     14455\n",
      "\n"
     ]
    }
   ],
   "source": [
    "for name, model in model_dict.items():\n",
    "    print(f\"Train model: {name}\")\n",
    "\n",
    "    grid = GridSearchCV(model, param_grid[name], cv=5, scoring='accuracy')\n",
    "    grid.fit(x_train, y_train)\n",
    "\n",
    "    best_model = grid.best_estimator_\n",
    "\n",
    "    y_pred = best_model.predict(x_test)\n",
    "\n",
    "    print(f'Best parametr: {grid.best_params_}')\n",
    "    print(classification_report(y_true=y_test, y_pred=y_pred))\n",
    "    joblib.dump(best_model, f'Data\\\\{name}_best_model.pkl')"
   ]
  },
  {
   "cell_type": "markdown",
   "metadata": {},
   "source": [
    "## NN"
   ]
  },
  {
   "cell_type": "code",
   "execution_count": 26,
   "metadata": {},
   "outputs": [],
   "source": [
    "from keras.models import Sequential\n",
    "from keras.layers import Dense"
   ]
  },
  {
   "cell_type": "code",
   "execution_count": 27,
   "metadata": {},
   "outputs": [
    {
     "name": "stderr",
     "output_type": "stream",
     "text": [
      "e:\\Code\\GOIT\\.venv\\Lib\\site-packages\\keras\\src\\layers\\core\\dense.py:87: UserWarning: Do not pass an `input_shape`/`input_dim` argument to a layer. When using Sequential models, prefer using an `Input(shape)` object as the first layer in the model instead.\n",
      "  super().__init__(activity_regularizer=activity_regularizer, **kwargs)\n"
     ]
    }
   ],
   "source": [
    "model = Sequential(name='ChurnNet')\n",
    "model.add(Dense(32, activation='relu', input_shape=(x_train.shape[1],)))\n",
    "model.add(Dense(16, activation='relu'))\n",
    "model.add(Dense(1, activation='sigmoid'))"
   ]
  },
  {
   "cell_type": "code",
   "execution_count": 28,
   "metadata": {},
   "outputs": [
    {
     "name": "stdout",
     "output_type": "stream",
     "text": [
      "Epoch 1/10\n",
      "\u001b[1m723/723\u001b[0m \u001b[32m━━━━━━━━━━━━━━━━━━━━\u001b[0m\u001b[37m\u001b[0m \u001b[1m2s\u001b[0m 2ms/step - accuracy: 0.7141 - loss: 0.5612 - val_accuracy: 0.7605 - val_loss: 0.4803\n",
      "Epoch 2/10\n",
      "\u001b[1m723/723\u001b[0m \u001b[32m━━━━━━━━━━━━━━━━━━━━\u001b[0m\u001b[37m\u001b[0m \u001b[1m1s\u001b[0m 2ms/step - accuracy: 0.7614 - loss: 0.4828 - val_accuracy: 0.7614 - val_loss: 0.4721\n",
      "Epoch 3/10\n",
      "\u001b[1m723/723\u001b[0m \u001b[32m━━━━━━━━━━━━━━━━━━━━\u001b[0m\u001b[37m\u001b[0m \u001b[1m1s\u001b[0m 1ms/step - accuracy: 0.7675 - loss: 0.4715 - val_accuracy: 0.7670 - val_loss: 0.4671\n",
      "Epoch 4/10\n",
      "\u001b[1m723/723\u001b[0m \u001b[32m━━━━━━━━━━━━━━━━━━━━\u001b[0m\u001b[37m\u001b[0m \u001b[1m1s\u001b[0m 1ms/step - accuracy: 0.7681 - loss: 0.4682 - val_accuracy: 0.7696 - val_loss: 0.4641\n",
      "Epoch 5/10\n",
      "\u001b[1m723/723\u001b[0m \u001b[32m━━━━━━━━━━━━━━━━━━━━\u001b[0m\u001b[37m\u001b[0m \u001b[1m1s\u001b[0m 1ms/step - accuracy: 0.7793 - loss: 0.4566 - val_accuracy: 0.7711 - val_loss: 0.4587\n",
      "Epoch 6/10\n",
      "\u001b[1m723/723\u001b[0m \u001b[32m━━━━━━━━━━━━━━━━━━━━\u001b[0m\u001b[37m\u001b[0m \u001b[1m1s\u001b[0m 1ms/step - accuracy: 0.7774 - loss: 0.4571 - val_accuracy: 0.7726 - val_loss: 0.4582\n",
      "Epoch 7/10\n",
      "\u001b[1m723/723\u001b[0m \u001b[32m━━━━━━━━━━━━━━━━━━━━\u001b[0m\u001b[37m\u001b[0m \u001b[1m1s\u001b[0m 1ms/step - accuracy: 0.7778 - loss: 0.4567 - val_accuracy: 0.7727 - val_loss: 0.4555\n",
      "Epoch 8/10\n",
      "\u001b[1m723/723\u001b[0m \u001b[32m━━━━━━━━━━━━━━━━━━━━\u001b[0m\u001b[37m\u001b[0m \u001b[1m1s\u001b[0m 1ms/step - accuracy: 0.7797 - loss: 0.4520 - val_accuracy: 0.7766 - val_loss: 0.4526\n",
      "Epoch 9/10\n",
      "\u001b[1m723/723\u001b[0m \u001b[32m━━━━━━━━━━━━━━━━━━━━\u001b[0m\u001b[37m\u001b[0m \u001b[1m1s\u001b[0m 1ms/step - accuracy: 0.7825 - loss: 0.4498 - val_accuracy: 0.7748 - val_loss: 0.4521\n",
      "Epoch 10/10\n",
      "\u001b[1m723/723\u001b[0m \u001b[32m━━━━━━━━━━━━━━━━━━━━\u001b[0m\u001b[37m\u001b[0m \u001b[1m1s\u001b[0m 2ms/step - accuracy: 0.7816 - loss: 0.4492 - val_accuracy: 0.7763 - val_loss: 0.4510\n"
     ]
    },
    {
     "data": {
      "text/plain": [
       "<keras.src.callbacks.history.History at 0x2de0642ce00>"
      ]
     },
     "execution_count": 28,
     "metadata": {},
     "output_type": "execute_result"
    }
   ],
   "source": [
    "model.compile(optimizer='adam', loss='binary_crossentropy', metrics=['accuracy'])\n",
    "model.fit(x_train, y_train, epochs=10, batch_size=64, validation_split=0.2)"
   ]
  },
  {
   "cell_type": "code",
   "execution_count": 32,
   "metadata": {},
   "outputs": [
    {
     "name": "stdout",
     "output_type": "stream",
     "text": [
      "\u001b[1m452/452\u001b[0m \u001b[32m━━━━━━━━━━━━━━━━━━━━\u001b[0m\u001b[37m\u001b[0m \u001b[1m0s\u001b[0m 1ms/step - accuracy: 0.7839 - loss: 0.4488\n",
      "Model Name: ChurnNet\n",
      "\u001b[1m452/452\u001b[0m \u001b[32m━━━━━━━━━━━━━━━━━━━━\u001b[0m\u001b[37m\u001b[0m \u001b[1m0s\u001b[0m 1ms/step\n",
      "              precision    recall  f1-score   support\n",
      "\n",
      "           0       0.73      0.83      0.78      6553\n",
      "           1       0.84      0.75      0.79      7902\n",
      "\n",
      "    accuracy                           0.79     14455\n",
      "   macro avg       0.79      0.79      0.78     14455\n",
      "weighted avg       0.79      0.79      0.79     14455\n",
      "\n"
     ]
    }
   ],
   "source": [
    "loss, accuracy = model.evaluate(x_test, y_test)\n",
    "print(f'Model Name: {model.name}')\n",
    "y_pred = (model.predict(x_test) > 0.5).astype(\"int32\")\n",
    "print(classification_report(y_test, y_pred))"
   ]
  },
  {
   "cell_type": "code",
   "execution_count": 34,
   "metadata": {},
   "outputs": [],
   "source": [
    "model.save('Data\\\\NN_best_model.keras')"
   ]
  }
 ],
 "metadata": {
  "kernelspec": {
   "display_name": ".venv",
   "language": "python",
   "name": "python3"
  },
  "language_info": {
   "codemirror_mode": {
    "name": "ipython",
    "version": 3
   },
   "file_extension": ".py",
   "mimetype": "text/x-python",
   "name": "python",
   "nbconvert_exporter": "python",
   "pygments_lexer": "ipython3",
   "version": "3.12.1"
  }
 },
 "nbformat": 4,
 "nbformat_minor": 2
}
