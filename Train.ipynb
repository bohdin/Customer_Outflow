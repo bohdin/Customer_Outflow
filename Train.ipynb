{
 "cells": [
  {
   "cell_type": "markdown",
   "metadata": {},
   "source": [
    "## Import Libraries"
   ]
  },
  {
   "cell_type": "code",
   "execution_count": 1,
   "metadata": {},
   "outputs": [],
   "source": [
    "import pandas as pd\n",
    "from sklearn.model_selection import train_test_split\n",
    "from sklearn.preprocessing import StandardScaler\n",
    "from sklearn.linear_model import LogisticRegression\n",
    "from sklearn.ensemble import RandomForestClassifier\n",
    "from sklearn.svm import SVC\n",
    "from sklearn.model_selection import GridSearchCV\n",
    "from sklearn.metrics import classification_report\n",
    "import joblib"
   ]
  },
  {
   "cell_type": "code",
   "execution_count": 2,
   "metadata": {},
   "outputs": [],
   "source": [
    "SEED = 42"
   ]
  },
  {
   "cell_type": "markdown",
   "metadata": {},
   "source": [
    "## Split data"
   ]
  },
  {
   "cell_type": "code",
   "execution_count": 3,
   "metadata": {},
   "outputs": [],
   "source": [
    "df = pd.read_csv('Data/ready_churm.csv')"
   ]
  },
  {
   "cell_type": "code",
   "execution_count": 4,
   "metadata": {},
   "outputs": [],
   "source": [
    "x_train, x_test, y_train, y_test = train_test_split(df.drop(columns=['churn']), df['churn'], test_size=0.2, random_state=SEED)"
   ]
  },
  {
   "cell_type": "code",
   "execution_count": 5,
   "metadata": {},
   "outputs": [],
   "source": [
    "scaler = StandardScaler()\n",
    "columns_scale = ['subscription_age', 'bill_avg', 'service_failure_count', 'download_avg', 'upload_avg']\n",
    "x_train[columns_scale] = scaler.fit_transform(x_train[columns_scale])\n",
    "x_test[columns_scale] = scaler.transform(x_test[columns_scale])"
   ]
  },
  {
   "cell_type": "markdown",
   "metadata": {},
   "source": [
    "## train"
   ]
  },
  {
   "cell_type": "code",
   "execution_count": 6,
   "metadata": {},
   "outputs": [],
   "source": [
    "model_dict = {\n",
    "    'LogisticRegression': LogisticRegression(random_state=SEED),\n",
    "    'RandomForest': RandomForestClassifier(random_state=SEED),\n",
    "    'SVM': SVC(random_state=SEED)\n",
    "}\n",
    "param_grid = {\n",
    "    'LogisticRegression': {'C': [0.01, 0.1, 1, 10]},\n",
    "    'RandomForest': {'n_estimators': [50, 100, 200]},\n",
    "    'SVM': {'C': [0.1, 1, 10]}\n",
    "}"
   ]
  },
  {
   "cell_type": "code",
   "execution_count": 7,
   "metadata": {},
   "outputs": [
    {
     "name": "stdout",
     "output_type": "stream",
     "text": [
      "Train model: LogisticRegression\n",
      "Best parametr: {'C': 0.1}\n",
      "              precision    recall  f1-score   support\n",
      "\n",
      "           0       0.73      0.68      0.70      6553\n",
      "           1       0.75      0.79      0.77      7902\n",
      "\n",
      "    accuracy                           0.74     14455\n",
      "   macro avg       0.74      0.74      0.74     14455\n",
      "weighted avg       0.74      0.74      0.74     14455\n",
      "\n",
      "Train model: RandomForest\n",
      "Best parametr: {'n_estimators': 200}\n",
      "              precision    recall  f1-score   support\n",
      "\n",
      "           0       0.78      0.83      0.80      6553\n",
      "           1       0.85      0.80      0.83      7902\n",
      "\n",
      "    accuracy                           0.81     14455\n",
      "   macro avg       0.81      0.82      0.81     14455\n",
      "weighted avg       0.82      0.81      0.81     14455\n",
      "\n",
      "Train model: SVM\n",
      "Best parametr: {'C': 10}\n",
      "              precision    recall  f1-score   support\n",
      "\n",
      "           0       0.73      0.84      0.78      6553\n",
      "           1       0.85      0.74      0.79      7902\n",
      "\n",
      "    accuracy                           0.78     14455\n",
      "   macro avg       0.79      0.79      0.78     14455\n",
      "weighted avg       0.79      0.78      0.78     14455\n",
      "\n"
     ]
    }
   ],
   "source": [
    "for name, model in model_dict.items():\n",
    "    print(f\"Train model: {name}\")\n",
    "\n",
    "    grid = GridSearchCV(model, param_grid[name], cv=5, scoring='accuracy')\n",
    "    grid.fit(x_train, y_train)\n",
    "\n",
    "    best_model = grid.best_estimator_\n",
    "\n",
    "    y_pred = best_model.predict(x_test)\n",
    "\n",
    "    print(f'Best parametr: {grid.best_params_}')\n",
    "    print(classification_report(y_true=y_test, y_pred=y_pred))\n",
    "    joblib.dump(best_model, f'Data\\\\{name}_best_model.pkl')"
   ]
  },
  {
   "cell_type": "markdown",
   "metadata": {},
   "source": [
    "## NN"
   ]
  },
  {
   "cell_type": "code",
   "execution_count": 8,
   "metadata": {},
   "outputs": [],
   "source": [
    "from keras.models import Sequential\n",
    "from keras.layers import Dense"
   ]
  },
  {
   "cell_type": "code",
   "execution_count": 9,
   "metadata": {},
   "outputs": [
    {
     "name": "stderr",
     "output_type": "stream",
     "text": [
      "e:\\Code\\GOIT\\.venv\\Lib\\site-packages\\keras\\src\\layers\\core\\dense.py:87: UserWarning: Do not pass an `input_shape`/`input_dim` argument to a layer. When using Sequential models, prefer using an `Input(shape)` object as the first layer in the model instead.\n",
      "  super().__init__(activity_regularizer=activity_regularizer, **kwargs)\n"
     ]
    }
   ],
   "source": [
    "model = Sequential(name='ChurnNet')\n",
    "model.add(Dense(32, activation='relu', input_shape=(x_train.shape[1],)))\n",
    "model.add(Dense(16, activation='relu'))\n",
    "model.add(Dense(1, activation='sigmoid'))"
   ]
  },
  {
   "cell_type": "code",
   "execution_count": 10,
   "metadata": {},
   "outputs": [
    {
     "name": "stdout",
     "output_type": "stream",
     "text": [
      "Epoch 1/10\n",
      "\u001b[1m723/723\u001b[0m \u001b[32m━━━━━━━━━━━━━━━━━━━━\u001b[0m\u001b[37m\u001b[0m \u001b[1m8s\u001b[0m 3ms/step - accuracy: 0.6951 - loss: 0.5735 - val_accuracy: 0.7602 - val_loss: 0.4798\n",
      "Epoch 2/10\n",
      "\u001b[1m723/723\u001b[0m \u001b[32m━━━━━━━━━━━━━━━━━━━━\u001b[0m\u001b[37m\u001b[0m \u001b[1m2s\u001b[0m 3ms/step - accuracy: 0.7627 - loss: 0.4790 - val_accuracy: 0.7669 - val_loss: 0.4702\n",
      "Epoch 3/10\n",
      "\u001b[1m723/723\u001b[0m \u001b[32m━━━━━━━━━━━━━━━━━━━━\u001b[0m\u001b[37m\u001b[0m \u001b[1m3s\u001b[0m 3ms/step - accuracy: 0.7735 - loss: 0.4640 - val_accuracy: 0.7725 - val_loss: 0.4666\n",
      "Epoch 4/10\n",
      "\u001b[1m723/723\u001b[0m \u001b[32m━━━━━━━━━━━━━━━━━━━━\u001b[0m\u001b[37m\u001b[0m \u001b[1m2s\u001b[0m 3ms/step - accuracy: 0.7730 - loss: 0.4650 - val_accuracy: 0.7741 - val_loss: 0.4630\n",
      "Epoch 5/10\n",
      "\u001b[1m723/723\u001b[0m \u001b[32m━━━━━━━━━━━━━━━━━━━━\u001b[0m\u001b[37m\u001b[0m \u001b[1m3s\u001b[0m 3ms/step - accuracy: 0.7791 - loss: 0.4572 - val_accuracy: 0.7751 - val_loss: 0.4574\n",
      "Epoch 6/10\n",
      "\u001b[1m723/723\u001b[0m \u001b[32m━━━━━━━━━━━━━━━━━━━━\u001b[0m\u001b[37m\u001b[0m \u001b[1m3s\u001b[0m 3ms/step - accuracy: 0.7799 - loss: 0.4569 - val_accuracy: 0.7748 - val_loss: 0.4573\n",
      "Epoch 7/10\n",
      "\u001b[1m723/723\u001b[0m \u001b[32m━━━━━━━━━━━━━━━━━━━━\u001b[0m\u001b[37m\u001b[0m \u001b[1m2s\u001b[0m 3ms/step - accuracy: 0.7820 - loss: 0.4511 - val_accuracy: 0.7764 - val_loss: 0.4576\n",
      "Epoch 8/10\n",
      "\u001b[1m723/723\u001b[0m \u001b[32m━━━━━━━━━━━━━━━━━━━━\u001b[0m\u001b[37m\u001b[0m \u001b[1m3s\u001b[0m 3ms/step - accuracy: 0.7845 - loss: 0.4487 - val_accuracy: 0.7777 - val_loss: 0.4518\n",
      "Epoch 9/10\n",
      "\u001b[1m723/723\u001b[0m \u001b[32m━━━━━━━━━━━━━━━━━━━━\u001b[0m\u001b[37m\u001b[0m \u001b[1m3s\u001b[0m 3ms/step - accuracy: 0.7813 - loss: 0.4530 - val_accuracy: 0.7788 - val_loss: 0.4532\n",
      "Epoch 10/10\n",
      "\u001b[1m723/723\u001b[0m \u001b[32m━━━━━━━━━━━━━━━━━━━━\u001b[0m\u001b[37m\u001b[0m \u001b[1m2s\u001b[0m 3ms/step - accuracy: 0.7811 - loss: 0.4512 - val_accuracy: 0.7780 - val_loss: 0.4480\n"
     ]
    },
    {
     "data": {
      "text/plain": [
       "<keras.src.callbacks.history.History at 0x227dd151b80>"
      ]
     },
     "execution_count": 10,
     "metadata": {},
     "output_type": "execute_result"
    }
   ],
   "source": [
    "model.compile(optimizer='adam', loss='binary_crossentropy', metrics=['accuracy'])\n",
    "model.fit(x_train, y_train, epochs=10, batch_size=64, validation_split=0.2)"
   ]
  },
  {
   "cell_type": "code",
   "execution_count": 11,
   "metadata": {},
   "outputs": [
    {
     "name": "stdout",
     "output_type": "stream",
     "text": [
      "\u001b[1m452/452\u001b[0m \u001b[32m━━━━━━━━━━━━━━━━━━━━\u001b[0m\u001b[37m\u001b[0m \u001b[1m1s\u001b[0m 1ms/step - accuracy: 0.7816 - loss: 0.4497\n",
      "Model Name: ChurnNet\n",
      "\u001b[1m452/452\u001b[0m \u001b[32m━━━━━━━━━━━━━━━━━━━━\u001b[0m\u001b[37m\u001b[0m \u001b[1m1s\u001b[0m 2ms/step\n",
      "              precision    recall  f1-score   support\n",
      "\n",
      "           0       0.74      0.81      0.77      6553\n",
      "           1       0.83      0.76      0.80      7902\n",
      "\n",
      "    accuracy                           0.79     14455\n",
      "   macro avg       0.78      0.79      0.78     14455\n",
      "weighted avg       0.79      0.79      0.79     14455\n",
      "\n"
     ]
    }
   ],
   "source": [
    "loss, accuracy = model.evaluate(x_test, y_test)\n",
    "print(f'Model Name: {model.name}')\n",
    "y_pred = (model.predict(x_test) > 0.5).astype(\"int32\")\n",
    "print(classification_report(y_test, y_pred))"
   ]
  },
  {
   "cell_type": "code",
   "execution_count": 12,
   "metadata": {},
   "outputs": [],
   "source": [
    "model.save('Data\\\\NN_best_model.keras')"
   ]
  },
  {
   "cell_type": "markdown",
   "metadata": {},
   "source": [
    "### RandomForestClassifier smaller"
   ]
  },
  {
   "cell_type": "code",
   "execution_count": 13,
   "metadata": {},
   "outputs": [
    {
     "name": "stdout",
     "output_type": "stream",
     "text": [
      "Best parametr: {'max_depth': None, 'min_samples_leaf': 1, 'min_samples_split': 20, 'n_estimators': 100}\n",
      "Best accuracy: 0.8183\n",
      "              precision    recall  f1-score   support\n",
      "\n",
      "           0       0.78      0.84      0.81      6553\n",
      "           1       0.86      0.80      0.83      7902\n",
      "\n",
      "    accuracy                           0.82     14455\n",
      "   macro avg       0.82      0.82      0.82     14455\n",
      "weighted avg       0.82      0.82      0.82     14455\n",
      "\n"
     ]
    }
   ],
   "source": [
    "random_forest = RandomForestClassifier(random_state=42)\n",
    "\n",
    "param_grid = {\n",
    "    'n_estimators': [50, 100],        \n",
    "    'max_depth': [5, 10, 20, None],       \n",
    "    'min_samples_split': [2, 10, 20],   \n",
    "    'min_samples_leaf': [1, 5, 10]\n",
    "}\n",
    "\n",
    "grid_search = GridSearchCV(estimator=random_forest, param_grid=param_grid, cv=5, scoring='accuracy', n_jobs=-1)\n",
    "\n",
    "grid_search.fit(x_train, y_train)\n",
    "\n",
    "print(f'Best parametr: {grid_search.best_params_}')\n",
    "print(f'Best accuracy: {grid_search.best_score_:.4f}')\n",
    "\n",
    "y_pred = grid_search.best_estimator_.predict(x_test)\n",
    "print(classification_report(y_true=y_test, y_pred=y_pred))"
   ]
  },
  {
   "cell_type": "code",
   "execution_count": 14,
   "metadata": {},
   "outputs": [
    {
     "data": {
      "text/plain": [
       "['Data\\\\RandomForest_best_model.pkl']"
      ]
     },
     "execution_count": 14,
     "metadata": {},
     "output_type": "execute_result"
    }
   ],
   "source": [
    "joblib.dump(grid_search, 'Data\\\\RandomForest_best_model.pkl')"
   ]
  },
  {
   "cell_type": "code",
   "execution_count": 15,
   "metadata": {},
   "outputs": [
    {
     "data": {
      "text/plain": [
       "['Data\\\\scaler.pkl']"
      ]
     },
     "execution_count": 15,
     "metadata": {},
     "output_type": "execute_result"
    }
   ],
   "source": [
    "joblib.dump(scaler, 'Data\\\\scaler.pkl')"
   ]
  },
  {
   "cell_type": "markdown",
   "metadata": {},
   "source": [
    "### SCM proba"
   ]
  },
  {
   "cell_type": "code",
   "execution_count": 18,
   "metadata": {},
   "outputs": [
    {
     "data": {
      "text/plain": [
       "['Data\\\\SVM_best_model.pkl']"
      ]
     },
     "execution_count": 18,
     "metadata": {},
     "output_type": "execute_result"
    }
   ],
   "source": [
    "svc = SVC(C=10, probability=True, random_state=SEED)\n",
    "svc.fit(x_train, y_train)\n",
    "joblib.dump(svc, 'Data\\\\SVM_best_model.pkl')"
   ]
  }
 ],
 "metadata": {
  "kernelspec": {
   "display_name": ".venv",
   "language": "python",
   "name": "python3"
  },
  "language_info": {
   "codemirror_mode": {
    "name": "ipython",
    "version": 3
   },
   "file_extension": ".py",
   "mimetype": "text/x-python",
   "name": "python",
   "nbconvert_exporter": "python",
   "pygments_lexer": "ipython3",
   "version": "3.12.1"
  }
 },
 "nbformat": 4,
 "nbformat_minor": 2
}
